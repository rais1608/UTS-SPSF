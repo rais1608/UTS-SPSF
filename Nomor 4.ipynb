{
 "cells": [
  {
   "cell_type": "code",
   "execution_count": 1,
   "id": "043bfd11",
   "metadata": {},
   "outputs": [
    {
     "data": {
      "text/html": [
       "<img src=\"https://mermaid.ink/img/CmdyYXBoIFRECiAgICBCKFsiQmVnaW4iXSkgLS0+IAogICAgSVsvIng8c3ViPjA8L3N1Yj4sIHg8c3ViPjE8L3N1Yj4sIDxicj5mKHgpIi9dIC0tPiAKICAgIFAxWyJpID0gMiJdIC0tPiAKICAgIG8xKCgiICIpKSAtLT4KICAgIFAyWyJmJyh4PHN1Yj5pLTE8L3N1Yj4pID0gW2YoeDxzdWI+aS0xPC9zdWI+KSAmbWRhc2g7IGYoeDxzdWI+aS0yPC9zdWI+KV08YnI+ICAgICAgLyAoeDxzdWI+aS0xPC9zdWI+ICZtZGFzaDsgeDxzdWI+aS0yPC9zdWI+KSJdIC0tPgogICAgUDNbIiZEZWx0YTt4ID0gZih4PHN1Yj5pLTE8L3N1Yj4pIC8gZicoeDxzdWI+aS0xPC9zdWI+KSJdLS0+CiAgICBQNFsieDxzdWI+aTwvc3ViPiA9IHg8c3ViPmktMTwvc3ViPiAgICAgICZtZGFzaDsgJkRlbHRhO3giXSAtLT4KICAgIFA1WyImZXBzaWxvbjsgPSB8Zih4PHN1Yj5pPC9zdWI+KXwiXSAtLT4KICAgIEN7IiZlcHNpbG9uOyAmbGU7ICZlcHNpbG9uOzxzdWI+bWF4PC9zdWI+In0gLS0+CiAgICB8bm98IFA2WyJpID0gaSArIDEiXSAgCiAgICBDeyImZXBzaWxvbjsgJmxlOyAmZXBzaWxvbjs8c3ViPm1heDwvc3ViPiJ9IC0tPiB8eWVzfCBPWy8ieDxzdWI+aTwvc3ViPiIvXQogICAgUDZbImkgPSBpICsgMSJdLS0+IG8xKCgiICIpKSAKICAgIE9bLyJ4PHN1Yj5pPC9zdWI+Ii9dLS0+RShbIkVuZCJdKSAgICAK?!white\"/>"
      ],
      "text/plain": [
       "<IPython.core.display.Image object>"
      ]
     },
     "metadata": {},
     "output_type": "display_data"
    }
   ],
   "source": [
    "import base64\n",
    "from IPython.display import Image, display\n",
    "import math\n",
    "import numpy as np\n",
    "import matplotlib.pyplot as plt\n",
    "\n",
    "\n",
    "def flowc(graph, **kwargs):\n",
    "    graphbytes = graph.encode('ascii')\n",
    "    base64_bytes = base64.b64encode(graphbytes)\n",
    "    base64_string = base64_bytes.decode('ascii')\n",
    "    bgcolor = '!white'\n",
    "    display(\n",
    "        Image(\n",
    "            url='https://mermaid.ink/img/'\n",
    "            + base64_string + '?' + bgcolor\n",
    "            )\n",
    "    )\n",
    "\n",
    "g = \"\"\"\n",
    "graph TD\n",
    "    B([\"Begin\"]) --> \n",
    "    I[/\"x<sub>0</sub>, x<sub>1</sub>, <br>f(x)\"/] --> \n",
    "    P1[\"i = 2\"] --> \n",
    "    o1((\" \")) -->\n",
    "    P2[\"f'(x<sub>i-1</sub>) = [f(x<sub>i-1</sub>) &mdash; f(x<sub>i-2</sub>)]<br>\\\n",
    "      / (x<sub>i-1</sub> &mdash; x<sub>i-2</sub>)\"] -->\n",
    "    P3[\"&Delta;x = f(x<sub>i-1</sub>) / f'(x<sub>i-1</sub>)\"]-->\n",
    "    P4[\"x<sub>i</sub> = x<sub>i-1</sub>\\\n",
    "      &mdash; &Delta;x\"] -->\n",
    "    P5[\"&epsilon; = |f(x<sub>i</sub>)|\"] -->\n",
    "    C{\"&epsilon; &le; &epsilon;<sub>max</sub>\"} -->\n",
    "    |no| P6[\"i = i + 1\"]  \n",
    "    C{\"&epsilon; &le; &epsilon;<sub>max</sub>\"} --> |yes| O[/\"x<sub>i</sub>\"/]\n",
    "    P6[\"i = i + 1\"]--> o1((\" \")) \n",
    "    O[/\"x<sub>i</sub>\"/]-->E([\"End\"])    \n",
    "\"\"\"\n",
    "flowc(g)"
   ]
  },
  {
   "cell_type": "code",
   "execution_count": 2,
   "id": "b4900657",
   "metadata": {},
   "outputs": [],
   "source": [
    "def f(x):\n",
    "    fx = x*x*x-2*x*x+x-1\n",
    "    return fx"
   ]
  },
  {
   "cell_type": "code",
   "execution_count": 16,
   "id": "5c9105b8",
   "metadata": {},
   "outputs": [
    {
     "name": "stdout",
     "output_type": "stream",
     "text": [
      "[1.7000000000000002, 1.8000000000000003]\n"
     ]
    }
   ],
   "source": [
    "xbeg = -1\n",
    "xend = 2\n",
    "dx = 0.1\n",
    "n = int((xend-xbeg)/dx)\n",
    "\n",
    "def smaller_root_range(f, xbeg, xend, dx):\n",
    "    sign = 0\n",
    "    for i in range(n+1):\n",
    "        xi = xbeg + i * dx\n",
    "        yi = f(xi)\n",
    "        if yi>0:\n",
    "            cur_sign = 1\n",
    "        else:\n",
    "            cur_sign = -1\n",
    "\n",
    "        if i == 0:\n",
    "            sign = cur_sign\n",
    "\n",
    "        if cur_sign * sign < 0:\n",
    "            xleft = xi-dx\n",
    "            xright = xi\n",
    "            break\n",
    "    return[xleft,xright]\n",
    "\n",
    "print (smaller_root_range(f, xbeg, xend, dx))"
   ]
  },
  {
   "cell_type": "code",
   "execution_count": 17,
   "id": "3871c811",
   "metadata": {},
   "outputs": [
    {
     "name": "stdout",
     "output_type": "stream",
     "text": [
      "iter-root----------f(root)\n",
      "0000 -1.000000E+00 -5.000000E+00\n",
      "0001 2.000000E+00 +1.000000E+00\n",
      "0002 1.500000E+00 -6.250000E-01\n",
      "0003 1.692308E+00 -1.888939E-01\n",
      "0004 1.775603E+00 +6.813308E-02\n",
      "0005 1.753523E+00 -4.354246E-03\n",
      "0006 1.754850E+00 -9.039625E-05\n",
      "0007 1.754878E+00 +1.242840E-07\n",
      "0008 1.754878E+00 -3.539391E-12\n"
     ]
    }
   ],
   "source": [
    "xbeg = -1\n",
    "xend = 2\n",
    "dx = 0.1\n",
    "n = int((xend-xbeg)/dx)\n",
    "\n",
    "xroot = []\n",
    "yroot = []\n",
    "\n",
    "y0 = f(xbeg)\n",
    "xroot.append(xbeg)\n",
    "yroot.append(y0)\n",
    "\n",
    "y1 = f(xend)\n",
    "xroot.append(xend)\n",
    "yroot.append(y1)\n",
    "    \n",
    "def root_secant(f):\n",
    "    \n",
    "    i = 2\n",
    "    eps = 1E-9\n",
    "    dx = (xend-xbeg)/n\n",
    "    print(\"iter-root----------f(root)\")\n",
    "    while dx > eps and i < 20:\n",
    "        x0 = xroot[i-2]\n",
    "        x1 = xroot[i-1]\n",
    "        if i == 2:\n",
    "            print(f\"{i-2:04d}\", f\"{x0:.6E}\", f\"{f(x0):+.6E}\")\n",
    "            print(f\"{i-1:04d}\", f\"{x1:.6E}\", f\"{f(x1):+.6E}\")\n",
    "\n",
    "        x2 = x1 - (x1 - x0) * f(x1) / ( f(x1) - f(x0) )\n",
    "        \n",
    "        xroot.append(x2)\n",
    "        dx = abs(f(x2))\n",
    "\n",
    "        print(f\"{i:04d}\", f\"{x2:.6E}\", f\"{f(x2):+.6E}\")\n",
    "        i += 1\n",
    "        \n",
    "root_secant(f)"
   ]
  },
  {
   "cell_type": "code",
   "execution_count": null,
   "id": "8510c280",
   "metadata": {},
   "outputs": [],
   "source": []
  }
 ],
 "metadata": {
  "kernelspec": {
   "display_name": "Python 3 (ipykernel)",
   "language": "python",
   "name": "python3"
  },
  "language_info": {
   "codemirror_mode": {
    "name": "ipython",
    "version": 3
   },
   "file_extension": ".py",
   "mimetype": "text/x-python",
   "name": "python",
   "nbconvert_exporter": "python",
   "pygments_lexer": "ipython3",
   "version": "3.10.2"
  }
 },
 "nbformat": 4,
 "nbformat_minor": 5
}
