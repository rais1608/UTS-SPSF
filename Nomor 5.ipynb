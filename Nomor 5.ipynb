{
 "cells": [
  {
   "cell_type": "code",
   "execution_count": 1,
   "id": "5f918c9b",
   "metadata": {},
   "outputs": [],
   "source": [
    "import numpy as np"
   ]
  },
  {
   "cell_type": "code",
   "execution_count": 2,
   "id": "03896fe0",
   "metadata": {},
   "outputs": [],
   "source": [
    "def f(x):\n",
    "    fx = np.sin(x)\n",
    "    return fx"
   ]
  },
  {
   "cell_type": "code",
   "execution_count": 3,
   "id": "4030a305",
   "metadata": {},
   "outputs": [],
   "source": [
    "xbeg = 0\n",
    "xend = np.pi\n",
    "n = 10\n",
    "dx = (xend-xbeg)/n"
   ]
  },
  {
   "cell_type": "markdown",
   "id": "4067e411",
   "metadata": {},
   "source": [
    "### rectangular method"
   ]
  },
  {
   "cell_type": "code",
   "execution_count": 13,
   "id": "aa89ab36",
   "metadata": {},
   "outputs": [
    {
     "name": "stdout",
     "output_type": "stream",
     "text": [
      "[1.9835235375094544]\n",
      "[2.414111712259338]\n",
      "[1.789362433636908]\n"
     ]
    }
   ],
   "source": [
    "def rectl(f, xbeg, xend, dx):\n",
    "    xi = xbeg\n",
    "    sum = 0\n",
    "    for i in range(n):\n",
    "        xi = xi+dx\n",
    "        yi = f(xi)\n",
    "        sum = sum + dx*yi\n",
    "    return[sum]\n",
    "print(rectl(f, xbeg, xend, dx))\n",
    "\n",
    "def rectm(f, xbeg, xend, dx):\n",
    "    xi = xbeg\n",
    "    sum = 0\n",
    "    for i in range(n):\n",
    "        xi = xi+dx\n",
    "        yi = f((xi+dx)/2)\n",
    "        sum = sum + dx*yi\n",
    "    return[sum]\n",
    "print(rectm(f, xbeg, xend, dx))\n",
    "\n",
    "def rectr(f, xbeg, xend, dx):\n",
    "    xi = xbeg\n",
    "    sum = 0\n",
    "    for i in range(n):\n",
    "        xi = xi+dx\n",
    "        yi = f(xi+dx)\n",
    "        sum = sum + dx*yi\n",
    "    return[sum]\n",
    "print(rectr(f, xbeg, xend, dx))"
   ]
  },
  {
   "cell_type": "markdown",
   "id": "4290c8f9",
   "metadata": {},
   "source": [
    "### Trapezium"
   ]
  },
  {
   "cell_type": "code",
   "execution_count": 14,
   "id": "99f63f18",
   "metadata": {},
   "outputs": [
    {
     "name": "stdout",
     "output_type": "stream",
     "text": [
      "[1.8864429855731812]\n"
     ]
    }
   ],
   "source": [
    "def trapez(f, xbeg, xend, dx):\n",
    "    xi = xbeg\n",
    "    sum = 0\n",
    "    for i in range(n):\n",
    "        xi = xi+dx\n",
    "        y0 = f(xi)\n",
    "        y1 = f(xi+dx)\n",
    "        sum = sum + (dx*((y0+y1)/2))\n",
    "    return[sum]\n",
    "print(trapez(f, xbeg, xend, dx))"
   ]
  }
 ],
 "metadata": {
  "kernelspec": {
   "display_name": "Python 3 (ipykernel)",
   "language": "python",
   "name": "python3"
  },
  "language_info": {
   "codemirror_mode": {
    "name": "ipython",
    "version": 3
   },
   "file_extension": ".py",
   "mimetype": "text/x-python",
   "name": "python",
   "nbconvert_exporter": "python",
   "pygments_lexer": "ipython3",
   "version": "3.10.2"
  }
 },
 "nbformat": 4,
 "nbformat_minor": 5
}
