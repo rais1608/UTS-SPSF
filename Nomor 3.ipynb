{
 "cells": [
  {
   "cell_type": "code",
   "execution_count": 1,
   "id": "8917cb06",
   "metadata": {},
   "outputs": [],
   "source": [
    "#Perhitungan Regresi Linear\n",
    "import math\n",
    "\n",
    "def sum_product(a,b):\n",
    "    reg = 0\n",
    "    for i in range(n):\n",
    "        reg += a[i]*b[i]\n",
    "    return reg\n",
    "def regresi_linear(x,y):\n",
    "    yreg = []\n",
    "    for i in x:\n",
    "        yreg.append(((sum(y)*sum_product(x,x)-(sum(x)*sum_product(x,y)))/((n*sum_product(x,x))-(sum(x)*sum(x)))) + (((n*sum_product(x,y))-(sum(x)*sum(y)))/((n*sum_product(x,x))-(sum(x)*sum(x)))) * i)\n",
    "    return yreg"
   ]
  },
  {
   "cell_type": "code",
   "execution_count": 2,
   "id": "f323eee4",
   "metadata": {},
   "outputs": [],
   "source": [
    "#Perhitungan Interpolasi Linear\n",
    "import numpy as np\n",
    "import math\n",
    "\n",
    "def q(j,x1,x,y):\n",
    "    q1 = y[j+1]*(x1-x[j]) / (x[j+1]-x[j])\n",
    "    q2 = y[j]*(x1-x[j+1]) / (x[j]-x[j+1])\n",
    "    qjx = q1+q2\n",
    "    return qjx\n",
    "\n",
    "def p(x1,x,y):\n",
    "    n = min(len(x),len(y))\n",
    "    h = x[1]-x[0]\n",
    "    j = math.floor((x1-x[0])/h)\n",
    "    if j >= n - 1: j = n - 2\n",
    "    px = q(j,x1,x,y)\n",
    "    return px\n",
    "\n",
    "def interpolasi_linear(x1, x, y):\n",
    "    y = [p(i,x,y) for i in x1]\n",
    "    return y"
   ]
  },
  {
   "cell_type": "code",
   "execution_count": 3,
   "id": "3a4a844c",
   "metadata": {},
   "outputs": [],
   "source": [
    "#Perhitungan Interpolasi Polinomial Lagrange\n",
    "import math\n",
    "\n",
    "def q2(j,x2,x,y):\n",
    "    lagr = 1\n",
    "    for k in range(n):\n",
    "        if k != j:\n",
    "            lagr *= (x2-x[k]) / (x[j] - x[k])\n",
    "    qjx = y[j] * lagr\n",
    "    return qjx\n",
    "\n",
    "def p2(x2, x, y):\n",
    "    px = 0\n",
    "    for j in range(n):\n",
    "        px += (q2(j,x2,x,y))\n",
    "    return px\n",
    "\n",
    "def interpolasi_polinomial_lagrange(x2,x,y):\n",
    "    y = [p2(i,x,y) for i in x2]\n",
    "    return y"
   ]
  },
  {
   "cell_type": "code",
   "execution_count": 4,
   "id": "7cfa21a9",
   "metadata": {},
   "outputs": [
    {
     "name": "stdout",
     "output_type": "stream",
     "text": [
      "Masukkan panjang x dan y:5\n",
      "\n",
      "Masukkan nilai x:4\n",
      "Masukkan nilai x:6\n",
      "Masukkan nilai x:8\n",
      "Masukkan nilai x:10\n",
      "Masukkan nilai x:12\n",
      "\n",
      "Masukkan nilai y:2\n",
      "Masukkan nilai y:6\n",
      "Masukkan nilai y:12\n",
      "Masukkan nilai y:18\n",
      "Masukkan nilai y:20\n",
      "[4, 6, 8, 10, 12]\n",
      "[2, 6, 12, 18, 20]\n"
     ]
    },
    {
     "data": {
      "image/png": "[encoded data removed]",
      "text/plain": [
       "<Figure size 432x288 with 1 Axes>"
      ]
     },
     "metadata": {
      "needs_background": "light"
     },
     "output_type": "display_data"
    }
   ],
   "source": [
    "# Plot Grafik\n",
    "import numpy as np\n",
    "import matplotlib.pyplot as plt\n",
    "x = []\n",
    "y = []\n",
    "\n",
    "n = int(input('Masukkan panjang x dan y:'))\n",
    "print()\n",
    "\n",
    "for i in range (0,n):\n",
    "    inp = int(input('Masukkan nilai x:'))\n",
    "    x.append(inp)\n",
    "print()\n",
    "for j in range (0,n):\n",
    "    inp2 = int(input('Masukkan nilai y:'))\n",
    "    y.append(inp2)\n",
    "\n",
    "print(x)\n",
    "print(y)\n",
    "\n",
    "x1 = np.linspace(min(x), max(x), 100).tolist()\n",
    "x2 = np.linspace(min(x), max(x), 100).tolist()\n",
    "\n",
    "y1 = regresi_linear(x,y)\n",
    "y2 = interpolasi_linear(x1,x,y)\n",
    "y3 = interpolasi_polinomial_lagrange(x2,x,y)\n",
    "\n",
    "\n",
    "plt.grid()\n",
    "plt.xlabel('x')\n",
    "plt.ylabel('y')\n",
    "plt.plot(x,y,'ko')\n",
    "plt.plot(x,y1,'r')\n",
    "plt.plot(x1,y2,'b--')\n",
    "plt.plot(x2,y3,'g-')\n",
    "plt.legend(['Data','Regresi Linear','Interpolasi Linear','Interpolasi Polinomial Lagrange'])\n",
    "plt.show()"
   ]
  },
  {
   "cell_type": "markdown",
   "id": "8b6dba9c",
   "metadata": {},
   "source": []
  }
 ],
 "metadata": {
  "kernelspec": {
   "display_name": "Python 3 (ipykernel)",
   "language": "python",
   "name": "python3"
  },
  "language_info": {
   "codemirror_mode": {
    "name": "ipython",
    "version": 3
   },
   "file_extension": ".py",
   "mimetype": "text/x-python",
   "name": "python",
   "nbconvert_exporter": "python",
   "pygments_lexer": "ipython3",
   "version": "3.10.2"
  }
 },
 "nbformat": 4,
 "nbformat_minor": 5
}
