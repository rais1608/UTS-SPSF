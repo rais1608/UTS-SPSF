{
 "cells": [
  {
   "cell_type": "code",
   "execution_count": 1,
   "id": "17413388",
   "metadata": {},
   "outputs": [],
   "source": [
    "import pandas as pd\n",
    "import numpy as np\n",
    "import statistics as st"
   ]
  },
  {
   "cell_type": "code",
   "execution_count": 2,
   "id": "f31b7af3",
   "metadata": {},
   "outputs": [
    {
     "name": "stdout",
     "output_type": "stream",
     "text": [
      "[1, 2, 3, 3, 4, 4, 4, 5, 5, 5, 5, 6, 6, 6, 7, 7, 7, 8, 8, 9]\n"
     ]
    }
   ],
   "source": [
    "X = [4,7,5,1,3,6,4,8,5,7,2,5,6,3,9,6,8,5,7,4]\n",
    "X.sort()\n",
    "print(X)"
   ]
  },
  {
   "cell_type": "markdown",
   "id": "a019dd00",
   "metadata": {},
   "source": [
    "## mencari x dan N"
   ]
  },
  {
   "cell_type": "code",
   "execution_count": 3,
   "id": "7e353f55",
   "metadata": {},
   "outputs": [
    {
     "name": "stdout",
     "output_type": "stream",
     "text": [
      "1\n",
      "20\n"
     ]
    }
   ],
   "source": [
    "x = X[0]\n",
    "print(x)\n",
    "\n",
    "N = len(X)\n",
    "print(N)"
   ]
  },
  {
   "cell_type": "markdown",
   "id": "ce612b8e",
   "metadata": {},
   "source": [
    "## mencari mean, median, dan modus"
   ]
  },
  {
   "cell_type": "code",
   "execution_count": 4,
   "id": "1e301530",
   "metadata": {},
   "outputs": [
    {
     "name": "stdout",
     "output_type": "stream",
     "text": [
      "5.25\n",
      "5.0\n",
      "5\n"
     ]
    }
   ],
   "source": [
    "sum_x = 0\n",
    "for i in range(20):\n",
    "    sum_x=sum_x+X[i]\n",
    "x_mean = sum_x/N\n",
    "print(x_mean)\n",
    "\n",
    "m = int(N/2)\n",
    "x_med = (X[m-1]+X[m])/2\n",
    "print(x_med)\n",
    "\n",
    "x_mode = st.mode(X)\n",
    "print(x_mode)"
   ]
  },
  {
   "cell_type": "markdown",
   "id": "b4006391",
   "metadata": {},
   "source": [
    "## mencari x_max, x_min, dan x_range"
   ]
  },
  {
   "cell_type": "code",
   "execution_count": 17,
   "id": "b7503c30",
   "metadata": {},
   "outputs": [
    {
     "name": "stdout",
     "output_type": "stream",
     "text": [
      "jadi nilai x_max adalah : 9\n",
      "1\n",
      "8\n"
     ]
    }
   ],
   "source": [
    "x_max = X[N-1]\n",
    "print(\"jadi nilai x_max adalah :\" ,(x_max))\n",
    "\n",
    "x_min = X[0]\n",
    "print(x_min)\n",
    "\n",
    "x_range = abs(x_min - x_max)\n",
    "print(x_range)"
   ]
  },
  {
   "cell_type": "markdown",
   "id": "8d0d3732",
   "metadata": {},
   "source": [
    "## mencari varian dan standar deviasi"
   ]
  },
  {
   "cell_type": "code",
   "execution_count": 12,
   "id": "502b499c",
   "metadata": {},
   "outputs": [
    {
     "name": "stdout",
     "output_type": "stream",
     "text": [
      "4.1875\n",
      "2.0463381929681126\n"
     ]
    }
   ],
   "source": [
    "x_var = st.pvariance(X)\n",
    "print(x_var)\n",
    "\n",
    "x_sdev = st.pstdev(X)\n",
    "print(x_sdev)"
   ]
  },
  {
   "cell_type": "code",
   "execution_count": null,
   "id": "e53b1032",
   "metadata": {},
   "outputs": [],
   "source": []
  }
 ],
 "metadata": {
  "kernelspec": {
   "display_name": "Python 3 (ipykernel)",
   "language": "python",
   "name": "python3"
  },
  "language_info": {
   "codemirror_mode": {
    "name": "ipython",
    "version": 3
   },
   "file_extension": ".py",
   "mimetype": "text/x-python",
   "name": "python",
   "nbconvert_exporter": "python",
   "pygments_lexer": "ipython3",
   "version": "3.9.7"
  }
 },
 "nbformat": 4,
 "nbformat_minor": 5
}
